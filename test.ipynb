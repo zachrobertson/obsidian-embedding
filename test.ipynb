{
 "cells": [
  {
   "cell_type": "code",
   "execution_count": 1,
   "metadata": {},
   "outputs": [],
   "source": [
    "from scipy import linalg\n",
    "from subprocess import Popen, PIPE"
   ]
  },
  {
   "cell_type": "code",
   "execution_count": 2,
   "metadata": {},
   "outputs": [],
   "source": [
    "a = [\n",
    "    [4, 11, 14],\n",
    "    [5, 6, 7],\n",
    "    [8, 9, 10],\n",
    "    [11, 12, 13]\n",
    "]"
   ]
  },
  {
   "cell_type": "code",
   "execution_count": 3,
   "metadata": {},
   "outputs": [],
   "source": [
    "U, S, Vt = linalg.svd(a)"
   ]
  },
  {
   "cell_type": "code",
   "execution_count": 4,
   "metadata": {},
   "outputs": [
    {
     "name": "stdout",
     "output_type": "stream",
     "text": [
      "[[-5.36212984e-01  8.37618532e-01 -1.04263276e-01  4.21688032e-16]\n",
      " [-3.16313006e-01 -9.65814136e-02  8.50853364e-01  4.08248290e-01]\n",
      " [-4.70737618e-01 -2.78299681e-01  1.85172126e-01 -8.16496581e-01]\n",
      " [-6.25162230e-01 -4.60017948e-01 -4.80509112e-01  4.08248290e-01]]\n",
      "[33.11853656  5.01310202  0.17704318]\n",
      "[[-0.43386888 -0.58984509 -0.68105841]\n",
      " [-0.88149569  0.12156203  0.45627626]\n",
      " [ 0.18634146 -0.79831413  0.57268789]]\n"
     ]
    }
   ],
   "source": [
    "print(U)\n",
    "print(S)\n",
    "print(Vt)"
   ]
  },
  {
   "cell_type": "code",
   "execution_count": 5,
   "metadata": {},
   "outputs": [
    {
     "name": "stdout",
     "output_type": "stream",
     "text": [
      "[\n",
      "  [ \u001b[33m-0.536212983892352\u001b[39m, \u001b[33m-0.8376185320663777\u001b[39m, \u001b[33m0.10426327562582624\u001b[39m ],\n",
      "  [ \u001b[33m-0.31631300579052934\u001b[39m, \u001b[33m0.09658141364164574\u001b[39m, \u001b[33m-0.8508533635357359\u001b[39m ],\n",
      "  [ \u001b[33m-0.4707376177653273\u001b[39m, \u001b[33m0.27829968100893604\u001b[39m, \u001b[33m-0.18517212561366322\u001b[39m ],\n",
      "  [ \u001b[33m-0.6251622297401253\u001b[39m, \u001b[33m0.4600179483762262\u001b[39m, \u001b[33m0.4805091123084093\u001b[39m ]\n",
      "]\n",
      "[ \u001b[33m33.11853656036826\u001b[39m, \u001b[33m5.013102015073421\u001b[39m, \u001b[33m0.1770431755774416\u001b[39m ]\n",
      "[\n",
      "  [ \u001b[33m-0.43386888208644575\u001b[39m, \u001b[33m0.8814956900668569\u001b[39m, \u001b[33m-0.18634146492558698\u001b[39m ],\n",
      "  [ \u001b[33m-0.5898450898855566\u001b[39m, \u001b[33m-0.12156203074519195\u001b[39m, \u001b[33m0.7983141252783924\u001b[39m ],\n",
      "  [ \u001b[33m-0.6810584138640071\u001b[39m, \u001b[33m-0.45627625521679405\u001b[39m, \u001b[33m-0.5726878869247906\u001b[39m ]\n",
      "]\n",
      "\n"
     ]
    }
   ],
   "source": [
    "command = [\"node\", \"svd_test.cjs\"]\n",
    "process = Popen(command, stdout=PIPE, stderr=PIPE)\n",
    "stdout, stderr = process.communicate()\n",
    "\n",
    "print(stdout.decode())\n"
   ]
  },
  {
   "cell_type": "code",
   "execution_count": 6,
   "metadata": {},
   "outputs": [
    {
     "name": "stdout",
     "output_type": "stream",
     "text": [
      "\n"
     ]
    }
   ],
   "source": [
    "command = [\"node\", \"pca_js_test.cjs\"]\n",
    "process = Popen(command, stdout=PIPE, stderr=PIPE)\n",
    "stdout, stderr = process.communicate()\n",
    "\n",
    "print(stdout.decode())"
   ]
  },
  {
   "cell_type": "code",
   "execution_count": null,
   "metadata": {},
   "outputs": [],
   "source": []
  }
 ],
 "metadata": {
  "kernelspec": {
   "display_name": "Python 3",
   "language": "python",
   "name": "python3"
  },
  "language_info": {
   "codemirror_mode": {
    "name": "ipython",
    "version": 3
   },
   "file_extension": ".py",
   "mimetype": "text/x-python",
   "name": "python",
   "nbconvert_exporter": "python",
   "pygments_lexer": "ipython3",
   "version": "3.10.10"
  }
 },
 "nbformat": 4,
 "nbformat_minor": 2
}
