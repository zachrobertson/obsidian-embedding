{
 "cells": [
  {
   "cell_type": "code",
   "execution_count": 1,
   "metadata": {},
   "outputs": [],
   "source": [
    "from scipy import linalg"
   ]
  },
  {
   "cell_type": "code",
   "execution_count": 2,
   "metadata": {},
   "outputs": [],
   "source": [
    "a = [\n",
    "    [4, 11, 14], \n",
    "    [5, 6, 7],\n",
    "    [8, 9, 10],\n",
    "    [11, 12, 13]\n",
    "]\n",
    "u, s, vh = linalg.svd(a)"
   ]
  },
  {
   "cell_type": "code",
   "execution_count": 3,
   "metadata": {},
   "outputs": [
    {
     "name": "stdout",
     "output_type": "stream",
     "text": [
      "[[-5.36212984e-01  8.37618532e-01 -1.04263276e-01  4.21688032e-16]\n",
      " [-3.16313006e-01 -9.65814136e-02  8.50853364e-01  4.08248290e-01]\n",
      " [-4.70737618e-01 -2.78299681e-01  1.85172126e-01 -8.16496581e-01]\n",
      " [-6.25162230e-01 -4.60017948e-01 -4.80509112e-01  4.08248290e-01]] [33.11853656  5.01310202  0.17704318] [[-0.43386888 -0.58984509 -0.68105841]\n",
      " [-0.88149569  0.12156203  0.45627626]\n",
      " [ 0.18634146 -0.79831413  0.57268789]]\n"
     ]
    }
   ],
   "source": [
    "print(u, s, vh)"
   ]
  },
  {
   "cell_type": "code",
   "execution_count": null,
   "metadata": {},
   "outputs": [],
   "source": []
  }
 ],
 "metadata": {
  "kernelspec": {
   "display_name": "Python 3",
   "language": "python",
   "name": "python3"
  },
  "language_info": {
   "codemirror_mode": {
    "name": "ipython",
    "version": 3
   },
   "file_extension": ".py",
   "mimetype": "text/x-python",
   "name": "python",
   "nbconvert_exporter": "python",
   "pygments_lexer": "ipython3",
   "version": "3.10.10"
  }
 },
 "nbformat": 4,
 "nbformat_minor": 2
}
